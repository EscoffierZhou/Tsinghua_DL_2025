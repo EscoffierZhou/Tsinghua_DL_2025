{
 "nbformat": 4,
 "nbformat_minor": 0,
 "metadata": {
  "colab": {
   "provenance": [],
   "gpuType": "T4"
  },
  "kernelspec": {
   "name": "python3",
   "display_name": "Python 3 (ipykernel)",
   "language": "python"
  },
  "language_info": {
   "name": "python"
  },
  "accelerator": "GPU"
 },
 "cells": [
  {
   "cell_type": "markdown",
   "source": [
    "# Homework 0\n",
    "\n",
    "在Homework 0中，我们给出了一个用以帮助你学习如何使用pytorch进行神经网络训练的基础例子，该例子在MNIST数据集上训练一个神经网络用来识别图片中的数字是什么。\n",
    "\n",
    "Homework 0 共分成两部分，在第一部分中，我们给出了完整的训练代码和测试代码，在第二部分中，我们基于第一部分提供了一个小练习，在该练习中，你需要填写部分代码以成功训练出一个可以识别数字的神经网络。\n",
    "\n",
    "请同学们好好享受并使用Homework 0中的内容！"
   ],
   "metadata": {
    "id": "zLXIOcuByWW1"
   }
  },
  {
   "cell_type": "markdown",
   "source": [
    "## 第一部分\n",
    "\n",
    "PyTorch 的基础可以参考 <https://pytorch.org/tutorials/beginner/basics/intro.html>。如果没有 PyTorch 基础，建议从其中第一节 Tensors 开始看起，跳过第 0 节 Quickstart。\n",
    "\n",
    "你需要在 MNIST 数据集上训练一个神经网络，进行手写数字识别。我们已经在下面给出了代码，你需要尝试运行并理解训练流程。"
   ],
   "metadata": {
    "id": "i16sMvhl4fUM"
   }
  },
  {
   "cell_type": "markdown",
   "source": [
    "### 设置超参数(Hyperparameters)"
   ],
   "metadata": {
    "id": "Gmpyqqqh4vbt"
   }
  },
  {
   "cell_type": "code",
   "source": [
    "num_epochs = 10\n",
    "batch_size = 1024\n",
    "device = 'cuda'"
   ],
   "metadata": {
    "id": "X-Crkj3LsSII",
    "ExecuteTime": {
     "end_time": "2025-07-28T09:10:43.633393Z",
     "start_time": "2025-07-28T09:10:43.625888Z"
    }
   },
   "outputs": [],
   "execution_count": 1
  },
  {
   "cell_type": "markdown",
   "source": [
    "### 加载数据集"
   ],
   "metadata": {
    "id": "F_1FpZ1r4yR2"
   }
  },
  {
   "cell_type": "code",
   "source": [
    "from torch.utils.data import DataLoader\n",
    "from torchvision import datasets, transforms\n",
    "\n",
    "transform = transforms.Compose([\n",
    "    transforms.ToTensor(),\n",
    "    transforms.Normalize((0.1307,), (0.3081,))\n",
    "])\n",
    "\n",
    "train_dataset = datasets.MNIST('data', train=True, download=True, transform=transform)\n",
    "train_loader = DataLoader(train_dataset, batch_size=batch_size, shuffle=True)\n",
    "test_dataset = datasets.MNIST('data', train=False, download=True, transform=transform)\n",
    "test_loader = DataLoader(test_dataset, batch_size=batch_size, shuffle=False)"
   ],
   "metadata": {
    "id": "e5Y5JlEtrK6M",
    "ExecuteTime": {
     "end_time": "2025-07-28T09:11:46.302202Z",
     "start_time": "2025-07-28T09:11:06.467904Z"
    }
   },
   "outputs": [
    {
     "name": "stderr",
     "output_type": "stream",
     "text": [
      "100%|██████████| 9.91M/9.91M [00:08<00:00, 1.22MB/s]\n",
      "100%|██████████| 28.9k/28.9k [00:00<00:00, 173kB/s]\n",
      "100%|██████████| 1.65M/1.65M [00:01<00:00, 1.13MB/s]\n",
      "100%|██████████| 4.54k/4.54k [00:00<00:00, 4.27MB/s]\n"
     ]
    }
   ],
   "execution_count": 2
  },
  {
   "cell_type": "markdown",
   "source": [
    "### 定义模型"
   ],
   "metadata": {
    "id": "uVfEmiy940V9"
   }
  },
  {
   "cell_type": "code",
   "source": [
    "from torch import nn\n",
    "from torch.functional import F\n",
    "class MNISTModel(nn.Module):\n",
    "  def __init__(self):\n",
    "    super().__init__()\n",
    "    self.fc1 = nn.Linear(28*28, 128)\n",
    "    self.fc2 = nn.Linear(128, 10)\n",
    "  def forward(self, x):\n",
    "    bsz = x.shape[0]\n",
    "    x = x.view(bsz, -1)\n",
    "    x = self.fc1(x)\n",
    "    x = F.relu(x)\n",
    "    x = self.fc2(x)\n",
    "    return x"
   ],
   "metadata": {
    "id": "qstDj2lOsc4l"
   },
   "execution_count": null,
   "outputs": []
  },
  {
   "cell_type": "markdown",
   "source": [
    "### 初始化模型和优化器"
   ],
   "metadata": {
    "id": "uK0urRdZ5H__"
   }
  },
  {
   "cell_type": "code",
   "source": [
    "from torch import optim\n",
    "model = MNISTModel()\n",
    "model.to(device)\n",
    "optimizer = optim.SGD(model.parameters(), lr=0.01, momentum=0.5)"
   ],
   "metadata": {
    "id": "MgjFtz_ctSUq"
   },
   "execution_count": null,
   "outputs": []
  },
  {
   "cell_type": "markdown",
   "source": [
    "### 训练"
   ],
   "metadata": {
    "id": "Cl6bqNz_5K6J"
   }
  },
  {
   "cell_type": "code",
   "source": [
    "import numpy as np\n",
    "from tqdm import tqdm\n",
    "model.train()\n",
    "for i in range(num_epochs):\n",
    "  losses = []\n",
    "  with tqdm(train_loader) as pbar:\n",
    "    for batch_idx, (data, target) in enumerate(pbar):\n",
    "      data = data.to(device)\n",
    "      target = target.to(device)\n",
    "      optimizer.zero_grad()\n",
    "      output = model(data)\n",
    "      loss = F.cross_entropy(output, target)\n",
    "      losses.append(loss.item())\n",
    "      loss.backward()\n",
    "      optimizer.step()\n",
    "\n",
    "      pbar.set_description('Epoch: {} Loss: {:.4f}'.format(i, np.mean(losses[-100:])))"
   ],
   "metadata": {
    "id": "0KHJTVKMtCqX"
   },
   "execution_count": null,
   "outputs": []
  },
  {
   "cell_type": "markdown",
   "source": [
    "### 测试\n",
    "在测试集上测试模型的准确率，如果一切正常，模型的准确率应该在 90\\% 以上。"
   ],
   "metadata": {
    "id": "-wUtXawn5NY4"
   }
  },
  {
   "cell_type": "code",
   "source": [
    "import torch\n",
    "model.eval()\n",
    "results = []\n",
    "with torch.no_grad():\n",
    "  with tqdm(test_loader) as pbar:\n",
    "    for batch_idx, (data, target) in enumerate(pbar):\n",
    "      data = data.to(device)\n",
    "      target = target.to(device)\n",
    "      output = model(data)\n",
    "      pred = output.argmax(dim=1)\n",
    "      result = pred == target\n",
    "      results.extend(result.tolist())\n",
    "\n",
    "      pbar.set_description('Test Acc: {:.4f}'.format(np.mean(results)))"
   ],
   "metadata": {
    "id": "wXubvCIQxmKh"
   },
   "execution_count": null,
   "outputs": []
  },
  {
   "cell_type": "markdown",
   "source": [
    "### 结果可视化\n",
    "从数据集中随机选取一张图片，打印图片和模型预测的结果。\n",
    "如果一切正常，模型预测结果应与图片上的数字一致。"
   ],
   "metadata": {
    "id": "tz3OH4Vd5ZG4"
   }
  },
  {
   "cell_type": "code",
   "source": [
    "import random\n",
    "model.eval()\n",
    "data, target = random.choice(test_dataset)\n",
    "data = data.to(device)\n",
    "with torch.no_grad():\n",
    "  output = model(data)\n",
    "pred = output.argmax(dim=1).item()\n",
    "print('Model prediction: {}'.format(pred))\n",
    "\n",
    "import matplotlib.pyplot as plt\n",
    "im = transforms.ToPILImage()(data * 0.1307 + 0.3081)\n",
    "plt.imshow(im, cmap='gray')\n",
    "plt.show()"
   ],
   "metadata": {
    "id": "K5Dm96_tyJIL"
   },
   "execution_count": null,
   "outputs": []
  },
  {
   "cell_type": "markdown",
   "source": [
    "---\n",
    "\n",
    "## 第二部分\n",
    "接下来，你需要尝试自己完成一遍上述的过程。此部分保留了大部分的代码，但留下了部分代码需要补全，你需要将标有TODO部分的代码补全并运行，期望上运行结果应该是与第一部分结果一致的。"
   ],
   "metadata": {
    "id": "MGbSbVABzxG3"
   }
  },
  {
   "cell_type": "code",
   "source": [
    "# 设置超参数\n",
    "num_epochs = 10\n",
    "batch_size = 1024\n",
    "device = 'cuda'"
   ],
   "metadata": {
    "id": "tYTF7j0-6R13",
    "ExecuteTime": {
     "end_time": "2025-07-28T09:14:08.125971Z",
     "start_time": "2025-07-28T09:14:08.120892Z"
    }
   },
   "outputs": [],
   "execution_count": 3
  },
  {
   "cell_type": "code",
   "source": [
    "# 加载数据集\n",
    "from torch.utils.data import DataLoader\n",
    "from torchvision import datasets, transforms\n",
    "\n",
    "transform = transforms.Compose([\n",
    "    transforms.ToTensor(),\n",
    "    transforms.Normalize((0.1307,), (0.3081,))\n",
    "])\n",
    "\n",
    "train_dataset = datasets.MNIST('data', train=True, download=True, transform=transform)\n",
    "train_loader = DataLoader(train_dataset, batch_size=batch_size, shuffle=True)\n",
    "# TODO: 加载测试集test_dataset以及test_loader\n",
    "test_dataset = datasets.MNIST('data', train=False, download=True, transform=transform)\n",
    "test_loader = DataLoader(test_dataset, batch_size=batch_size, shuffle=False)\n",
    "\n"
   ],
   "metadata": {
    "id": "PKt2e7jF3Z9B",
    "ExecuteTime": {
     "end_time": "2025-07-28T09:14:09.773491Z",
     "start_time": "2025-07-28T09:14:09.698882Z"
    }
   },
   "outputs": [],
   "execution_count": 4
  },
  {
   "cell_type": "code",
   "source": [
    "# 定义模型\n",
    "from torch import nn\n",
    "from torch.functional import F\n",
    "class MNISTModel(nn.Module):\n",
    "  def __init__(self):\n",
    "    super().__init__()\n",
    "    # TODO: 定义模型网络结构\n",
    "    self.fc1 = nn.Linear(28*28, 128)\n",
    "    self.fc2 = nn.Linear(128, 64)\n",
    "    self.fc3 = nn.Linear(64, 10)\n",
    "  def forward(self, x):\n",
    "    # TODO: 模型进行前向传播\n",
    "    bsz = x.shape[0]\n",
    "    x = x.view(bsz, -1)\n",
    "    x = self.fc1(x)\n",
    "    x = F.gelu(x)\n",
    "    x = self.fc2(x)\n",
    "    x = F.gelu(x)\n",
    "    x = self.fc3(x)\n",
    "    return x"
   ],
   "metadata": {
    "id": "VZQ7c2tj3c03",
    "ExecuteTime": {
     "end_time": "2025-07-28T09:19:22.185848Z",
     "start_time": "2025-07-28T09:19:22.179332Z"
    }
   },
   "outputs": [],
   "execution_count": 8
  },
  {
   "cell_type": "code",
   "source": [
    "# 初始化模型和优化器\n",
    "from torch import optim\n",
    "model = MNISTModel()\n",
    "model.to(device)\n",
    "optimizer = optim.SGD(model.parameters(), lr=0.01, momentum=0.5)"
   ],
   "metadata": {
    "id": "pN0YQLY83g8z",
    "collapsed": true,
    "ExecuteTime": {
     "end_time": "2025-07-28T09:19:22.349075Z",
     "start_time": "2025-07-28T09:19:22.340585Z"
    }
   },
   "outputs": [],
   "execution_count": 9
  },
  {
   "metadata": {
    "id": "LQW7YdS-3iRo",
    "ExecuteTime": {
     "end_time": "2025-07-28T09:21:18.563465Z",
     "start_time": "2025-07-28T09:19:23.097370Z"
    }
   },
   "cell_type": "code",
   "source": [
    "# 训练\n",
    "import numpy as np\n",
    "from tqdm import tqdm\n",
    "model.train()\n",
    "for i in range(num_epochs):\n",
    "  losses = []\n",
    "  with tqdm(train_loader) as pbar:\n",
    "    for batch_idx, (data, target) in enumerate(pbar):\n",
    "      # TODO: 将该批次的数据移动到 GPU 上\n",
    "      data = data.to(device)\n",
    "      target = target.to(device)\n",
    "      # TODO: 清空模型参数的梯度\n",
    "      optimizer.zero_grad()\n",
    "      # TODO: 计算模型输出\n",
    "      output = model(data)\n",
    "      # TODO: 计算在该批次数据上的Loss\n",
    "      loss = F.cross_entropy(output, target)\n",
    "      losses.append(loss.item())\n",
    "      # TODO: 反向传播计算梯度\n",
    "      loss.backward() \n",
    "      # TODO：使用优化器更新网络参数\n",
    "      optimizer.step()\n",
    "      pbar.set_description('Epoch: {} Loss: {:.4f}'.format(i, np.mean(losses[-100:])))\n",
    "    "
   ],
   "outputs": [
    {
     "name": "stderr",
     "output_type": "stream",
     "text": [
      "Epoch: 0 Loss: 2.2085: 100%|██████████| 59/59 [00:11<00:00,  4.99it/s]\n",
      "Epoch: 1 Loss: 1.5689: 100%|██████████| 59/59 [00:11<00:00,  5.14it/s]\n",
      "Epoch: 2 Loss: 0.7795: 100%|██████████| 59/59 [00:11<00:00,  5.11it/s]\n",
      "Epoch: 3 Loss: 0.5469: 100%|██████████| 59/59 [00:11<00:00,  5.17it/s]\n",
      "Epoch: 4 Loss: 0.4567: 100%|██████████| 59/59 [00:11<00:00,  5.14it/s]\n",
      "Epoch: 5 Loss: 0.4076: 100%|██████████| 59/59 [00:11<00:00,  5.09it/s]\n",
      "Epoch: 6 Loss: 0.3754: 100%|██████████| 59/59 [00:11<00:00,  5.11it/s]\n",
      "Epoch: 7 Loss: 0.3529: 100%|██████████| 59/59 [00:11<00:00,  5.21it/s]\n",
      "Epoch: 8 Loss: 0.3355: 100%|██████████| 59/59 [00:11<00:00,  5.14it/s]\n",
      "Epoch: 9 Loss: 0.3216: 100%|██████████| 59/59 [00:11<00:00,  5.04it/s]\n"
     ]
    }
   ],
   "execution_count": 10
  },
  {
   "cell_type": "code",
   "source": [
    "# 测试\n",
    "import torch\n",
    "model.eval()\n",
    "results = []\n",
    "with torch.no_grad():\n",
    "  with tqdm(test_loader) as pbar:\n",
    "    for batch_idx, (data, target) in enumerate(pbar):\n",
    "      data = data.to(device)\n",
    "      target = target.to(device)\n",
    "      output = model(data)\n",
    "      pred = output.argmax(dim=1)\n",
    "      result = pred == target\n",
    "      results.extend(result.tolist())\n",
    "\n",
    "      pbar.set_description('Test Acc: {:.4f}'.format(np.mean(results)))"
   ],
   "metadata": {
    "id": "RWFoJMch3jwi",
    "ExecuteTime": {
     "end_time": "2025-07-28T09:21:20.048603Z",
     "start_time": "2025-07-28T09:21:18.577938Z"
    }
   },
   "outputs": [
    {
     "name": "stderr",
     "output_type": "stream",
     "text": [
      "Test Acc: 0.9139: 100%|██████████| 10/10 [00:01<00:00,  6.85it/s]\n"
     ]
    }
   ],
   "execution_count": 11
  },
  {
   "cell_type": "code",
   "source": [
    "# 结果可视化\n",
    "import random\n",
    "model.eval()\n",
    "data, target = random.choice(test_dataset)\n",
    "data = data.to(device)\n",
    "with torch.no_grad():\n",
    "  output = model(data)\n",
    "pred = output.argmax(dim=1).item()\n",
    "print('Model prediction: {}'.format(pred))\n",
    "\n",
    "import matplotlib.pyplot as plt\n",
    "im = transforms.ToPILImage()(data * 0.1307 + 0.3081)\n",
    "plt.imshow(im, cmap='gray')\n",
    "plt.show()"
   ],
   "metadata": {
    "id": "tlTGQm6p3lQ5",
    "ExecuteTime": {
     "end_time": "2025-07-28T09:21:21.788295Z",
     "start_time": "2025-07-28T09:21:20.191283Z"
    }
   },
   "outputs": [
    {
     "name": "stdout",
     "output_type": "stream",
     "text": [
      "Model prediction: 9\n"
     ]
    },
    {
     "data": {
      "text/plain": [
       "<Figure size 640x480 with 1 Axes>"
      ],
      "image/png": "[encoded data removed]"
     },
     "metadata": {},
     "output_type": "display_data"
    }
   ],
   "execution_count": 12
  }
 ]
}
